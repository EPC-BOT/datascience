{
 "cells": [
  {
   "cell_type": "markdown",
   "metadata": {},
   "source": [
    "## Lista"
   ]
  },
  {
   "cell_type": "code",
   "execution_count": 1,
   "metadata": {},
   "outputs": [
    {
     "data": {
      "text/plain": [
       "list"
      ]
     },
     "execution_count": 1,
     "metadata": {},
     "output_type": "execute_result"
    }
   ],
   "source": [
    "\"\"\"\n",
    "residencial, comercial, fazenda\n",
    "\n",
    "\"\"\"\n",
    "# Colchetes\n",
    "\n",
    "tipos_imoveis = [\"residencial\",\"comercial\",\"fazenda\"]\n",
    "\n",
    "type(tipos_imoveis)"
   ]
  },
  {
   "cell_type": "markdown",
   "metadata": {},
   "source": [
    "#### A lista muda, mas a tupla não"
   ]
  },
  {
   "cell_type": "code",
   "execution_count": 2,
   "metadata": {},
   "outputs": [
    {
     "data": {
      "text/plain": [
       "tuple"
      ]
     },
     "execution_count": 2,
     "metadata": {},
     "output_type": "execute_result"
    }
   ],
   "source": [
    "tipos_imoveis = (\"residencial\",\"comercial\",\"fazenda\")\n",
    "\n",
    "type(tipos_imoveis)"
   ]
  },
  {
   "cell_type": "markdown",
   "metadata": {},
   "source": [
    "#### Conjuntos\n",
    "{itens}"
   ]
  },
  {
   "cell_type": "code",
   "execution_count": 5,
   "metadata": {},
   "outputs": [
    {
     "data": {
      "text/plain": [
       "set"
      ]
     },
     "execution_count": 5,
     "metadata": {},
     "output_type": "execute_result"
    }
   ],
   "source": [
    "tipos_imoveis = {\"residencial\",\"comercial\",\"fazenda\",\"residencial\"}\n",
    "tipos_imoveis\n",
    "type(tipos_imoveis)\n"
   ]
  },
  {
   "cell_type": "markdown",
   "metadata": {},
   "source": [
    "### List (lista) - [] mutável\n",
    "### Tuple (tupla) - () imutável\n",
    "### Set (conjutos) - {} não repetir"
   ]
  },
  {
   "cell_type": "markdown",
   "metadata": {},
   "source": [
    " - Crie uma lista de vitória do seu time\n",
    " - Crie uma tupla de fastfood \n",
    " - Crie um conjuto de itens de compra do supermercado"
   ]
  },
  {
   "cell_type": "markdown",
   "metadata": {},
   "source": []
  },
  {
   "cell_type": "code",
   "execution_count": 11,
   "metadata": {},
   "outputs": [
    {
     "name": "stdout",
     "output_type": "stream",
     "text": [
      "['1981', '2019', '2022']\n"
     ]
    }
   ],
   "source": [
    "###### LISTA\n",
    "\n",
    "vitorias_flamengo_libertadores = [\"1981\",\"2019\",\"2022\"]\n",
    "\n",
    "type(vitorias_flamengo_libertadores)\n",
    "print(vitorias_flamengo_libertadores )\n"
   ]
  },
  {
   "cell_type": "code",
   "execution_count": 12,
   "metadata": {},
   "outputs": [
    {
     "name": "stdout",
     "output_type": "stream",
     "text": [
      "('hamburguer', 'pizza', 'batata', 'hamburguer')\n"
     ]
    }
   ],
   "source": [
    "###### Tupla\n",
    "\n",
    "fastfood = (\"hamburguer\",\"pizza\",\"batata\",\"hamburguer\")\n",
    "\n",
    "type(fastfood)\n",
    "print(fastfood)"
   ]
  },
  {
   "cell_type": "code",
   "execution_count": 13,
   "metadata": {},
   "outputs": [
    {
     "name": "stdout",
     "output_type": "stream",
     "text": [
      "{'macarrao', 'feijao', 'arroz', 'carne'}\n"
     ]
    }
   ],
   "source": [
    "###### itens\n",
    "\n",
    "compras_mercado = {\"arroz\",\"feijao\",\"macarrao\",\"carne\",\"arroz\",\"feijao\"}\n",
    "compras_mercado\n",
    "type(compras_mercado)\n",
    "print(compras_mercado)"
   ]
  },
  {
   "cell_type": "markdown",
   "metadata": {},
   "source": [
    "## Dicionário "
   ]
  },
  {
   "cell_type": "code",
   "execution_count": null,
   "metadata": {},
   "outputs": [],
   "source": [
    "# Criando um dicionário com infomrações sobre apartamentos\n",
    "\n",
    "apartamentos = {\n",
    "    \"taguatinga\": 3,\n",
    "    \"brazlândia\": 5,\n",
    "    \"ceilândia\": 2,\n",
    "}\n",
    "\n",
    "\n",
    "\n",
    "# Acessando valores no dicionário\n",
    "\n",
    "print(apartamentos[\"taguatinga\"]) # Saída: 3\n",
    "\n",
    "# Adicionando um novo apartamento\n",
    "apartamentos[\"cadangolândia\"] = 4 \n",
    "\n",
    "# Iterando sobre as chaves e valores\n",
    "for apartamento, quantidade in apartamentos.items():\n",
    "    print(f\"{apartamento}: {quantidade}\")"
   ]
  },
  {
   "cell_type": "markdown",
   "metadata": {},
   "source": [
    " - Criar um dicionário quinta_estudos\n",
    "\n",
    " - Criar um dicionário sexta_estudos"
   ]
  },
  {
   "cell_type": "code",
   "execution_count": 22,
   "metadata": {},
   "outputs": [
    {
     "name": "stdout",
     "output_type": "stream",
     "text": [
      "Paradigma: 5\n",
      "Objeto: 6\n",
      "Classe: 7\n",
      "Método: 20\n",
      "Herança: 15\n",
      "Polimorfismo: 25\n",
      "Encapsulamento: 17\n"
     ]
    }
   ],
   "source": [
    "estudo_quinta = {\n",
    "\"Paradigma\": 5,\n",
    "\"Objeto\": 6,\n",
    "\"Classe\": 7,\n",
    "\"Método\": 20,\n",
    "\"Herança\": 15,\n",
    "\"Polimorfismo\": 25,\n",
    "\"Encapsulamento\": 17\n",
    "    \n",
    "}\n",
    "for materia, minutos in estudo_quinta.items():\n",
    "    print(f\"{materia}: {minutos}\")"
   ]
  },
  {
   "cell_type": "code",
   "execution_count": 24,
   "metadata": {},
   "outputs": [],
   "source": [
    "sexta_Feira = {\n",
    "    \"Media\": 5,\n",
    "    \"Mediana\": 10,\n",
    "    \"Moda\": 10,\n",
    "    \"Quartis\": 40,\n",
    "    \"Desvio Padrão\": 60\n",
    "}"
   ]
  },
  {
   "cell_type": "code",
   "execution_count": 26,
   "metadata": {},
   "outputs": [
    {
     "name": "stdout",
     "output_type": "stream",
     "text": [
      "5\n"
     ]
    }
   ],
   "source": [
    "print(sexta_Feira[\"Media\"])"
   ]
  },
  {
   "cell_type": "code",
   "execution_count": 28,
   "metadata": {},
   "outputs": [],
   "source": [
    "sexta_Feira[\"novo\"] = 9"
   ]
  },
  {
   "cell_type": "code",
   "execution_count": 30,
   "metadata": {},
   "outputs": [
    {
     "name": "stdout",
     "output_type": "stream",
     "text": [
      "Media: 5\n",
      "Mediana: 10\n",
      "Moda: 10\n",
      "Quartis: 40\n",
      "Desvio Padrão: 60\n",
      "novo: 9\n"
     ]
    }
   ],
   "source": [
    "for materia, minutos in sexta_Feira.items():\n",
    "    print(f\"{materia}: {minutos}\")"
   ]
  }
 ],
 "metadata": {
  "kernelspec": {
   "display_name": ".venv",
   "language": "python",
   "name": "python3"
  },
  "language_info": {
   "codemirror_mode": {
    "name": "ipython",
    "version": 3
   },
   "file_extension": ".py",
   "mimetype": "text/x-python",
   "name": "python",
   "nbconvert_exporter": "python",
   "pygments_lexer": "ipython3",
   "version": "3.12.4"
  }
 },
 "nbformat": 4,
 "nbformat_minor": 2
}
