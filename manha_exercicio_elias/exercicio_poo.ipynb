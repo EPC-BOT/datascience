{
 "cells": [
  {
   "cell_type": "code",
   "execution_count": 1,
   "metadata": {},
   "outputs": [
    {
     "name": "stdout",
     "output_type": "stream",
     "text": [
      "Hello World!\n"
     ]
    }
   ],
   "source": [
    "print(\"Hello World!\")"
   ]
  },
  {
   "cell_type": "markdown",
   "metadata": {},
   "source": [
    "## Exercicio:\n",
    "\n",
    "- Criar uma classe Produto\n",
    "- Com uma função para calcular o valor total desse produto."
   ]
  },
  {
   "cell_type": "markdown",
   "metadata": {},
   "source": [
    "## Lista de Regras\n",
    "\n",
    "- A classe é um conjunto de objetos;\n",
    "- A classe agrupa objetos em comum;\n",
    "- A classe possui um construtor __init__\n",
    "- As caracteristicas dos objeto são atributos.\n",
    "- O self acessa as caracteristicas e comportamento da classe\n",
    "- Os metodos de trabalho (workers-Oziel Moreira Neto): são metodos para calcular, desenvolver a logica de programação"
   ]
  },
  {
   "cell_type": "code",
   "execution_count": 10,
   "metadata": {},
   "outputs": [],
   "source": [
    "class Produto:\n",
    "    def __init__(self,qtde,preco):\n",
    "        self.qtde = qtde\n",
    "        self.preco = preco \n",
    "\n",
    "\n",
    "    def calcular_total(self):\n",
    "        return self.qtde * self.preco"
   ]
  },
  {
   "cell_type": "code",
   "execution_count": 11,
   "metadata": {},
   "outputs": [
    {
     "name": "stdout",
     "output_type": "stream",
     "text": [
      "O valor toral de melancia é:100\n"
     ]
    }
   ],
   "source": [
    "p = Produto(qtde=10, preco=10)\n",
    "print(f\"O valor toral de melancia é:{p.calcular_total()}\")"
   ]
  },
  {
   "cell_type": "markdown",
   "metadata": {},
   "source": [
    "## Marvin agora é com você eu fiz o meu melhor e seu futuro eu sei de..."
   ]
  },
  {
   "cell_type": "code",
   "execution_count": null,
   "metadata": {},
   "outputs": [],
   "source": [
    "class Produto\n",
    "def __init__(self,Bairro, Quartos, Vagas, Suites, Area, Valor, Condominio, IPTU)"
   ]
  }
 ],
 "metadata": {
  "kernelspec": {
   "display_name": ".venv",
   "language": "python",
   "name": "python3"
  },
  "language_info": {
   "codemirror_mode": {
    "name": "ipython",
    "version": 3
   },
   "file_extension": ".py",
   "mimetype": "text/x-python",
   "name": "python",
   "nbconvert_exporter": "python",
   "pygments_lexer": "ipython3",
   "version": "3.12.4"
  }
 },
 "nbformat": 4,
 "nbformat_minor": 2
}
